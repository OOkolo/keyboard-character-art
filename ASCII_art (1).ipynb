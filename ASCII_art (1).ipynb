{
  "nbformat": 4,
  "nbformat_minor": 0,
  "metadata": {
    "kernelspec": {
      "display_name": "Python 3",
      "language": "python",
      "name": "python3"
    },
    "language_info": {
      "codemirror_mode": {
        "name": "ipython",
        "version": 3
      },
      "file_extension": ".py",
      "mimetype": "text/x-python",
      "name": "python",
      "nbconvert_exporter": "python",
      "pygments_lexer": "ipython3",
      "version": "3.6.5"
    },
    "colab": {
      "name": "ASCII art.ipynb",
      "provenance": []
    }
  },
  "cells": [
    {
      "cell_type": "code",
      "metadata": {
        "id": "BMjKpsgFvlc4"
      },
      "source": [
        "import cv2 \n",
        "import numpy as np"
      ],
      "execution_count": null,
      "outputs": []
    },
    {
      "cell_type": "code",
      "metadata": {
        "scrolled": false,
        "id": "iZlWBbHcvlc8",
        "outputId": "cd3dbd33-b76d-417f-8c98-5e7ebec6e2c9"
      },
      "source": [
        "import cv2\n",
        "import numpy as np\n",
        "import sys\n",
        "\n",
        "# initialise the list of symbols to use\n",
        "symbols_list = [\")\", \"(\", \"*\", \"C\", \"o\"]\n",
        "threshold_list = [0, 10, 1000, 150, 200]\n",
        "image = cv2.imread(\"sample_image.png\", 0)  # read image\n",
        "\n",
        "# Change the image to ascii\n",
        "def img_to_ascii(image):\n",
        "    \"\"\"Return numerically coded image\"\"\"\n",
        "    # Establish resizing parameters\n",
        "    # adjust these parameters if the output doesnt fit the screen\n",
        "\n",
        "    height, width = image.shape\n",
        "    new_width = int(width / 20)\n",
        "    new_height = int(height/10)\n",
        "\n",
        "    # Resize the image\n",
        "    resized_image = cv2.resize(image, (new_height, new_width))\n",
        "    thresh_image = np.zeros(resized_image.shape)\n",
        "\n",
        "    for i, threshold in enumerate(threshold_list):\n",
        "        # assign corresponding values according to the index of threshold applied\n",
        "        thresh_image[resized_image > threshold] = i\n",
        "    return thresh_image\n",
        "\n",
        "\n",
        "def print_out_ascii(array):\n",
        "    \"\"\"Prints out the image coded with symbols\"\"\"\n",
        "    for row in array:\n",
        "        for e in row:\n",
        "            # select symbol based on the type of coding\n",
        "            print(symbols_list[int(e) % len(symbols_list)], end=\"\")\n",
        "        print()\n",
        "\n",
        "if __name__ == \"__main__\":\n",
        "\n",
        "    if len(sys.argv) < 2:\n",
        "        print(\"Image Path not specified : Using sample_image.png\\n\")\n",
        "        image_path = \"sample_image.png\"  # default image path\n",
        "\n",
        "    if len(sys.argv) == 2:\n",
        "        print(\"Using {} as Image Path\\n\".format(sys.argv[1]))\n",
        "        image_path = sys.argv[1]\n",
        "\n",
        "\n",
        "\n",
        "    ascii_art = img_to_ascii(image)\n",
        "    print_out_ascii(ascii_art)"
      ],
      "execution_count": null,
      "outputs": [
        {
          "name": "stdout",
          "output_type": "stream",
          "text": [
            ")))))))))))))))))))))))))))))))))))))))))))))))))))))))))))))))))\n",
            ")))))))))))))))))))))))))))))))))))))))))))))))))))))))))))))))))\n",
            ")))))ooooooooooooooooooooooooooooooooooooooooooooooooooooooo)))))\n",
            ")))))oooooooooooooooooooC((((((((((((((((ooooooooooooooooooo)))))\n",
            ")))))ooooooooooooooo(((((((((((((((((((((((((ooooooooooooooo)))))\n",
            ")))))oooooooooooo(((((((((((((((((((((((((((((((oooooooooooo)))))\n",
            ")))))ooooooooo(((((((((((((((((((((((((((((((((((((ooooooooo)))))\n",
            ")))))oooooooC(((((((((((((((((((((((((((((((((((((((Cooooooo)))))\n",
            ")))))oooooo(((((((((((((((((((((((((((((((((((((((((((oooooo)))))\n",
            ")))))ooooo(((((((((((((((((((((((((((((((((((((((((((((ooooo)))))\n",
            ")))))oooo(((((((((((((((((((((((((((((((((((((((((((((((oooo)))))\n",
            ")))))ooo(((((((((((((((((((((((((((((((((((((((((((((((((ooo)))))\n",
            ")))))oo(((((((((((((((((((((((((((((((((((((((((((((((((((oo)))))\n",
            ")))))oo(((((((((((((((((((((((((((((((((((((((((((((((((((oo)))))\n",
            ")))))oC(((((((((((((((((((((((((((((((((((((((((((((((((((Co)))))\n",
            ")))))o(((((((((((((((((((((((((((((((((((((((((((((((((((((o)))))\n",
            ")))))o(((((((((((((((((((((((((((((((((((((((((((((((((((((o)))))\n",
            ")))))oo(((((((((((((((((((((((((((((((((((((((((((((((((((oo)))))\n",
            ")))))oo(((((((((((((((((((((((((((((((((((((((((((((((((((oo)))))\n",
            ")))))ooC(((((((((((((((((((((((((((((((((((((((((((((((((Coo)))))\n",
            ")))))ooo(((((((((((((((((((((((((((((((((((((((((((((((((ooo)))))\n",
            ")))))oooo(((((((((((((((((((((((((((((((((((((((((((((((oooo)))))\n",
            ")))))ooooo(((((((((((((((((((((((((((((((((((((((((((((ooooo)))))\n",
            ")))))ooooooo(((((((((((((((((((((((((((((((((((((((((ooooooo)))))\n",
            ")))))ooooooooC(((((((((((((((((((((((((((((((((((((Coooooooo)))))\n",
            ")))))ooooooooooo(((((((((((((((((((((((((((((((((ooooooooooo)))))\n",
            ")))))ooooooooooooo(((((((((((((((((((((((((((((ooooooooooooo)))))\n",
            ")))))ooooooooooooooooo(((((((((((((((((((((ooooooooooooooooo)))))\n",
            ")))))ooooooooooooooooooooooooC(((((Coooooooooooooooooooooooo)))))\n",
            ")))))ooooooooooooooooooooooooooooooooooooooooooooooooooooooo)))))\n",
            ")))))))))))))))))))))))))))))))))))))))))))))))))))))))))))))))))\n",
            ")))))))))))))))))))))))))))))))))))))))))))))))))))))))))))))))))\n"
          ]
        }
      ]
    },
    {
      "cell_type": "code",
      "metadata": {
        "id": "odcrDFPXvlc-"
      },
      "source": [
        ""
      ],
      "execution_count": null,
      "outputs": []
    }
  ]
}